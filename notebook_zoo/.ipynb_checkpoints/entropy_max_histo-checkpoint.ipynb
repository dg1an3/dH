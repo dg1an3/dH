{
 "cells": [
  {
   "cell_type": "code",
   "execution_count": null,
   "metadata": {},
   "outputs": [],
   "source": [
    "import matplotlib\n",
    "import matplotlib.pyplot as plt\n",
    "import pprint, math, random, inspect, numbers"
   ]
  },
  {
   "cell_type": "code",
   "execution_count": null,
   "metadata": {},
   "outputs": [],
   "source": [
    "def create_img(fn,**kwarg):\n",
    "    \"\"\" creates a square image in the form of a sz*sz element list vector \"\"\"\n",
    "    sz = kwarg.get('sz',5)\n",
    "    img = [float(fn(c,r,**kwarg)) for c in range(sz) for r in range(sz)]\n",
    "    return img\n",
    "\n",
    "def uniform_noise(delta=1e-3):    \n",
    "    return delta*(random.random()-0.5)\n",
    "\n",
    "def dist_sq(r,c,sz=5):\n",
    "    return ((r-sz//2)**2 + (c-sz//2)**2)\n",
    "\n",
    "def quadratic(r,c,sz=5,noise=True):\n",
    "    scale = float(sz*sz)\n",
    "    v = dist_sq(r,c,sz)/scale\n",
    "    return v + (uniform_noise() if noise else 0.)\n",
    "\n",
    "def gauss(r,c,sz=5,sigma=1.0):\n",
    "    return math.exp(-dist_sq(r,c,sz)/sigma)\n",
    "\n",
    "def gabor(r,c,sz=5,sigma=1.0,kx=1.0,ky=0.0,phase=0.0):    \n",
    "    wave = r*kx + c*ky\n",
    "    mod = (1.-phase)*math.sin(wave)\n",
    "    mod += phase*math.cos(wave)\n",
    "    return mod*math.exp(-dist_sq(r,c,sz)/sigma)\n",
    "\n",
    "%matplotlib inline\n",
    "def show_img(img):\n",
    "    sz = int(math.ceil(math.sqrt(len(img))))\n",
    "    plt.imshow([[img[r*sz+c] for c in range(sz)] for r in range(sz)], cmap='gray')\n",
    "    \n",
    "quad_img = create_img(quadratic,sz=5)\n",
    "gauss_img = create_img(gauss,sz=15,sigma=3.0)\n",
    "gabor_img = create_img(gabor,sz=20,sigma=5.0,phase=1.0)\n",
    "\n",
    "show_img(quad_img)"
   ]
  },
  {
   "cell_type": "code",
   "execution_count": null,
   "metadata": {},
   "outputs": [],
   "source": [
    "# %debug \"create_img(sz, quadratic, dump=False)\""
   ]
  },
  {
   "cell_type": "code",
   "execution_count": null,
   "metadata": {},
   "outputs": [],
   "source": [
    "def mean_pixel_value_for_img(img):\n",
    "    return sum(img)/float(len(img))\n",
    "\n",
    "def num_grad(fn, v, delta=1.e-1):\n",
    "    \"\"\"\n",
    "    \"\"\"\n",
    "    assert(len(v) > 0)\n",
    "    for x in v: \n",
    "        assert isinstance(x, numbers.Number)\n",
    "    fn_v = fn(v)\n",
    "    def partial(n):\n",
    "        delta_v = [x for x in v]\n",
    "        delta_v[n] += delta   \n",
    "        fn_delta_v = fn(delta_v)\n",
    "        return (fn_delta_v - fn_v)/delta    \n",
    "    jac = [partial(n) for n in range(len(v))]\n",
    "    return jac"
   ]
  },
  {
   "cell_type": "code",
   "execution_count": null,
   "metadata": {},
   "outputs": [],
   "source": [
    "def calc_bins(img, width=.1):\n",
    "    \"\"\" calculate the bin boundaries for an image \"\"\"\n",
    "    min_px, max_px = min(img), max(img)\n",
    "    min_bin = math.floor(min_px/width)*width\n",
    "    bin_count = int((max_px - min_bin)/width)\n",
    "    inf = 1.e+2\n",
    "    bins_at = [-inf] + [x*width+min_bin \n",
    "                    for x in range(bin_count+2)] + [inf]\n",
    "    return bins_at\n",
    "\n",
    "def histogram(img, bins_at, dump=False):\n",
    "    if dump:\n",
    "        print(\"histogram: img (flattened) = \"); pprint.pprint(img)\n",
    "        print(\"bins_at = \"); pprint.pprint(bins_at)\n",
    "    this_bin = 0.\n",
    "    for (lower,upper) in zip(bins_at, bins_at[1:]):\n",
    "        def frac(px):\n",
    "            return (px-lower)/(upper-lower)\n",
    "        high_fractions = list(map(frac, filter(lambda px:lower<=px and px<upper, img)))\n",
    "        if dump:\n",
    "            print(\">>>> \\thistogram: for {}: high_fractions = \".format((lower,upper))); pprint.pprint(high_fractions)\n",
    "        this_bin += sum(map(lambda x:1.-x, high_fractions))\n",
    "        yield ((lower, upper),this_bin)\n",
    "        this_bin = sum(high_fractions)\n",
    "\n",
    "def entropy(bins):\n",
    "    eps = 1e-10\n",
    "    bin_sum = sum([count for _,count in bins])\n",
    "    entropy = 0.0\n",
    "    for ((lower,upper),count) in bins:\n",
    "        p = max(count/bin_sum, eps)\n",
    "        entropy += -p*math.log(p)\n",
    "    return entropy\n",
    "\n",
    "def entropy_for_img(img, bins_at, dump=False):\n",
    "    img_bins = list(histogram(img, bins_at, dump))\n",
    "    img_entropy = entropy(img_bins)\n",
    "    if dump:\n",
    "        print(\"image_histo =\"); pprint.pprint(img_bins)\n",
    "        print(\"bin sum = {}\".format(sum([count for _,count in img_bins]))) \n",
    "        print(\"img_entropy = {}\".format(img_entropy))\n",
    "    return img_entropy\n",
    "\n",
    "# create the bins to be reused\n",
    "bins_at = calc_bins(quad_img)\n",
    "quad_img_entropy = entropy_for_img(quad_img, bins_at, dump=False)\n",
    "print(\"original entropy = {}\".format(quad_img_entropy))        "
   ]
  },
  {
   "cell_type": "code",
   "execution_count": null,
   "metadata": {},
   "outputs": [],
   "source": [
    "test_step = True\n",
    "if test_step:\n",
    "    step = 1e-10\n",
    "    def brighten_quad(r,c,sz=5,brighten=0.):\n",
    "        return quad_img[r*sz+c]+brighten\n",
    "    for brighten in range(1,100):\n",
    "        bright_img = create_img(brighten_quad,sz=5,brighten=step*brighten)\n",
    "        bright_img_entropy = entropy_for_img(bright_img, bins_at)\n",
    "        dentropy = (bright_img_entropy - quad_img_entropy)/(step*brighten)\n",
    "        print(\"dentropy = {}\\tupdated entropy = {}\".format(dentropy, bright_img_entropy))"
   ]
  },
  {
   "cell_type": "code",
   "execution_count": null,
   "metadata": {},
   "outputs": [],
   "source": [
    "%matplotlib inline\n",
    "gauss_img = create_img(gauss,sz=35,sigma=17.0)\n",
    "sz = int(math.sqrt(len(gauss_img)))\n",
    "fig, axes = plt.subplots(2,5,figsize=(30,8))\n",
    "axes[0][0].imshow([[gauss_img[r*sz+c] for c in range(sz)] for r in range(sz)],cmap='gray')\n",
    "\n",
    "from IPython import display\n",
    "display.clear_output(wait=True)\n",
    "display.display(plt.gcf())\n",
    "\n",
    "count_arrows = \">\"\n",
    "for at in range(1,10):\n",
    "    for iter in range(50):\n",
    "        print(\"iteration\" + count_arrows)\n",
    "        count_arrows = count_arrows + \">\"\n",
    "        dS_dPixels = num_grad(lambda v:(mean_pixel_value_for_img(v)-0.5)**2\n",
    "                    - entropy_for_img(v, bins_at, dump=False), gauss_img)    \n",
    "        gauss_img = list(map(lambda px_dS:px_dS[0]-((1e-1)*px_dS[1]),\n",
    "                            zip(gauss_img, dS_dPixels)))\n",
    "    axes[at//5][at%5].imshow([[gauss_img[r*sz+c] for c in range(sz)] for r in range(sz)],cmap='gray')\n",
    "    display.clear_output(wait=True)\n",
    "    display.display(plt.gcf())\n",
    "\n",
    "print(\"done\")"
   ]
  },
  {
   "cell_type": "code",
   "execution_count": null,
   "metadata": {},
   "outputs": [],
   "source": [
    "#test that a uniform image has entropy >>> pixel count\n",
    "#test that a dirac image has entropy >>> ???\n",
    "#test that a gaussian image has entropy >>> ???\n",
    "#test that shifting pixel values for an image doesn't (significantly) change entropy, as bins get narrower\n",
    "#test d_Entropy / d_GaussWidth > 0.0"
   ]
  },
  {
   "cell_type": "code",
   "execution_count": null,
   "metadata": {},
   "outputs": [],
   "source": [
    "#optimize entropy from dirac\n",
    "#optimize entropy from random\n",
    "#optimize entropy of an arbitrary image"
   ]
  },
  {
   "cell_type": "code",
   "execution_count": null,
   "metadata": {},
   "outputs": [],
   "source": []
  }
 ],
 "metadata": {
  "kernelspec": {
   "display_name": "Python 3",
   "language": "python",
   "name": "python3"
  },
  "language_info": {
   "codemirror_mode": {
    "name": "ipython",
    "version": 3
   },
   "file_extension": ".py",
   "mimetype": "text/x-python",
   "name": "python",
   "nbconvert_exporter": "python",
   "pygments_lexer": "ipython3",
   "version": "3.6.8"
  }
 },
 "nbformat": 4,
 "nbformat_minor": 2
}
