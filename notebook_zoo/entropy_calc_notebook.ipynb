{
 "cells": [
  {
   "cell_type": "code",
   "execution_count": 1,
   "metadata": {},
   "outputs": [],
   "source": [
    "import numpy as np"
   ]
  },
  {
   "cell_type": "code",
   "execution_count": 2,
   "metadata": {},
   "outputs": [],
   "source": [
    "def pairwise(iterable):\n",
    "    from itertools import tee\n",
    "    \"s -> (s0,s1), (s1,s2), (s2, s3), ...\"\n",
    "    a, b = tee(iterable)\n",
    "    next(b, None)\n",
    "    return zip(a, b)"
   ]
  },
  {
   "cell_type": "code",
   "execution_count": 3,
   "metadata": {},
   "outputs": [],
   "source": [
    "def mass_density(a):\n",
    "    bins, edges = np.histogram(a, density=True)\n",
    "    probs = [bin*(max-min) for bin, (min,max) \n",
    "                in zip(bins, pairwise(edges))]\n",
    "    return probs"
   ]
  },
  {
   "cell_type": "code",
   "execution_count": 4,
   "metadata": {},
   "outputs": [],
   "source": [
    "def entropy(probs):\n",
    "    import math\n",
    "    eps = 1e-3\n",
    "    entropy = sum([-p*math.log(p+eps) for p in probs])\n",
    "    return entropy"
   ]
  },
  {
   "cell_type": "code",
   "execution_count": null,
   "metadata": {},
   "outputs": [],
   "source": [
    "spike_image = np.zeros((3,3))\n",
    "spike_image[1][1] = 1.0\n",
    "print(spike_image)\n",
    "print(entropy(mass_density(spike_image)))\n",
    "\n",
    "flat_image = np.random.uniform(0.,1.,size=(3,3))\n",
    "print(flat_image)\n",
    "print(entropy(mass_density(flat_image)))\n",
    "\n",
    "def num_grad(a, func, delta=1e-4):\n",
    "    \"\"\"\n",
    "    evaluates the numeric gradient of a function\n",
    "    \"\"\"\n",
    "    f_a = func(a)\n",
    "    assert np.isscalar(f_a),  \"func does not produce scalar\"\n",
    "    grad = np.zeros(a.shape)\n",
    "    for r in range(a.shape[0]):\n",
    "        for c in range(a.shape[1]):\n",
    "            d_a = np.copy(a)\n",
    "            d_a[r,c] = d_a[r,c] + delta\n",
    "            grad[r,c] = (func(d_a) - f_a)/delta\n",
    "    return grad\n",
    "\n",
    "def entropy_grad(a):\n",
    "    \"\"\"\n",
    "    \"\"\"\n",
    "    dEntropy_da = num_grad(a, lambda x:entropy(mass_density(x)), delta=1e-4)\n",
    "    return dEntropy_da\n",
    "\n",
    "def entropy_grad_norm(a):\n",
    "    \"\"\"\n",
    "    \"\"\"\n",
    "    return np.linalg.norm(entropy_grad(a))\n",
    "\n",
    "def maximize_entropy(a, lr=0.1, n=10):\n",
    "    for _ in range(n):\n",
    "        print('start a = ', a, entropy_grad(a))\n",
    "        a = a + lr * entropy_grad(a)\n",
    "        print('end a = ', a)\n",
    "        a = a / sum(sum(a))\n",
    "        print('normalized a = ', a)\n",
    "        print('a entropy = ', entropy(mass_density(a)))"
   ]
  }
 ],
 "metadata": {
  "kernelspec": {
   "display_name": "Python 3",
   "language": "python",
   "name": "python3"
  },
  "language_info": {
   "codemirror_mode": {
    "name": "ipython",
    "version": 3
   },
   "file_extension": ".py",
   "mimetype": "text/x-python",
   "name": "python",
   "nbconvert_exporter": "python",
   "pygments_lexer": "ipython3",
   "version": "3.6.8"
  }
 },
 "nbformat": 4,
 "nbformat_minor": 2
}
